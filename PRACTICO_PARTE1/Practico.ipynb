{
 "cells": [
  {
   "cell_type": "markdown",
   "id": "a49e9927-f016-4660-89df-26c5800aea8b",
   "metadata": {},
   "source": [
    "# Práctico"
   ]
  },
  {
   "cell_type": "markdown",
   "id": "5fe2ae9e-6076-4a12-931c-5349ee7eb2d3",
   "metadata": {
    "jp-MarkdownHeadingCollapsed": true,
    "tags": []
   },
   "source": [
    "El trabajo práctico de la materia consiste en el análisis de un conjunto de datos extraído de Twitter. La idea es emplear los conceptos de grafos vistos en clase sobre un caso real de actualidad.\n",
    "\n",
    "## Dataset\n",
    "\n",
    "El dataset consiste en un conjunto de hilos de tweets, con un total de ~150000 tweets, extraídos entre Enero y Marzo de 2021. La temática de los mismos está referida a la vacunación contra el covid-19 en Argentina.\n",
    "\n",
    "Pueden descargar el dataset del siguiente [link](https://drive.google.com/file/d/1X_qKsE8muAnom2tDX4sLlmBAO0Ikfe_G/view?usp=sharing).\n",
    "\n",
    "### Campos\n",
    "\n",
    "- **created_at:** Fecha del tweet\n",
    "- **id_str:** ID del tweet\n",
    "- **full_text:** Contenido del tweet\n",
    "- **in_reply_to_status_id:** ID del tweet inmediatamente anterior en el hilo\n",
    "- **in_reply_to_user_id:** Autor del tweet inmediatamente anterior en el hilo\n",
    "- **user.id:** Autor del tweet\n",
    "- **user_retweeters:** Lista de ID de usuarios que retweetearon el tweet\n",
    "- **sentiment:** Etiquetado manual que indica el sentimiento o intención del tweet con respecto al tweet anterior en el hilo"
   ]
  },
  {
   "cell_type": "markdown",
   "id": "72860bf6",
   "metadata": {},
   "source": [
    "Ejemplo\n",
    "\n",
    "<img src=\"./figuras/twitter-thread.jpg\" width=\"500\"/>"
   ]
  },
  {
   "cell_type": "markdown",
   "id": "8eed8c8b-8c40-4d18-b4ad-c853e1c3b7d1",
   "metadata": {},
   "source": [
    "## Configuración inicial"
   ]
  },
  {
   "cell_type": "code",
   "execution_count": 1,
   "id": "a23c83a7-0c4e-4bff-b8cb-253671e5d1d6",
   "metadata": {},
   "outputs": [],
   "source": [
    "import pandas as pd\n",
    "import os\n",
    "import networkx as nx\n",
    "\n",
    "import networkx as nx\n",
    "import matplotlib.pyplot as plt\n",
    "import numpy as np\n",
    "\n",
    "from pathlib import Path"
   ]
  },
  {
   "cell_type": "code",
   "execution_count": 2,
   "id": "bad2d1fd",
   "metadata": {},
   "outputs": [],
   "source": [
    "## Descargar el csv con los datos en este directorio\n",
    "DATA_DIR = Path(os.path.join(os.getcwd(), \"data\", \"twitter\"))\n",
    "INPUT_FILE = DATA_DIR / \"vacunas.csv\"\n",
    "\n",
    "## Creamos el directorio en caso de que no exista\n",
    "DATA_DIR.mkdir(parents=True, exist_ok=True)"
   ]
  },
  {
   "cell_type": "markdown",
   "id": "acf6889f-86be-4fc8-b281-a738b8d475c4",
   "metadata": {},
   "source": [
    "### Cargamos el dataset"
   ]
  },
  {
   "cell_type": "code",
   "execution_count": 3,
   "id": "e43cef47-be3b-47ba-9a07-9373013580ec",
   "metadata": {},
   "outputs": [
    {
     "name": "stdout",
     "output_type": "stream",
     "text": [
      "Shape: (155123, 8)\n"
     ]
    },
    {
     "data": {
      "text/html": [
       "<div>\n",
       "<style scoped>\n",
       "    .dataframe tbody tr th:only-of-type {\n",
       "        vertical-align: middle;\n",
       "    }\n",
       "\n",
       "    .dataframe tbody tr th {\n",
       "        vertical-align: top;\n",
       "    }\n",
       "\n",
       "    .dataframe thead th {\n",
       "        text-align: right;\n",
       "    }\n",
       "</style>\n",
       "<table border=\"1\" class=\"dataframe\">\n",
       "  <thead>\n",
       "    <tr style=\"text-align: right;\">\n",
       "      <th></th>\n",
       "      <th>created_at</th>\n",
       "      <th>id_str</th>\n",
       "      <th>full_text</th>\n",
       "      <th>in_reply_to_status_id</th>\n",
       "      <th>in_reply_to_user_id</th>\n",
       "      <th>user.id</th>\n",
       "      <th>user_retweeters</th>\n",
       "      <th>sentiment</th>\n",
       "    </tr>\n",
       "  </thead>\n",
       "  <tbody>\n",
       "    <tr>\n",
       "      <th>0</th>\n",
       "      <td>Sat Feb 20 03:09:10 +0000 2021</td>\n",
       "      <td>1362962469749153792</td>\n",
       "      <td>Seguimos esperando el comunicado de @norabar r...</td>\n",
       "      <td>NaN</td>\n",
       "      <td>NaN</td>\n",
       "      <td>2737379453</td>\n",
       "      <td>[2258074658, 159909978, 105301854, 290671142, ...</td>\n",
       "      <td>NaN</td>\n",
       "    </tr>\n",
       "    <tr>\n",
       "      <th>1</th>\n",
       "      <td>Sat Feb 20 03:19:59 +0000 2021</td>\n",
       "      <td>1362965193509265417</td>\n",
       "      <td>@Clon_43 @norabar Nora estaba indignada porque...</td>\n",
       "      <td>1362962469749153792</td>\n",
       "      <td>2737379453</td>\n",
       "      <td>32718111</td>\n",
       "      <td>[]</td>\n",
       "      <td>NaN</td>\n",
       "    </tr>\n",
       "    <tr>\n",
       "      <th>2</th>\n",
       "      <td>Mon Feb 22 23:55:08 +0000 2021</td>\n",
       "      <td>1364000806740111363</td>\n",
       "      <td>Bueno, Alberto dijo Salud o Economía. La salud...</td>\n",
       "      <td>NaN</td>\n",
       "      <td>NaN</td>\n",
       "      <td>252168075</td>\n",
       "      <td>[1238117630696972289, 37232479, 12792246571247...</td>\n",
       "      <td>NaN</td>\n",
       "    </tr>\n",
       "    <tr>\n",
       "      <th>3</th>\n",
       "      <td>Tue Feb 23 00:09:14 +0000 2021</td>\n",
       "      <td>1364004354374696963</td>\n",
       "      <td>@spitta1969 Tuit del mes Spitta</td>\n",
       "      <td>1364000806740111363</td>\n",
       "      <td>252168075</td>\n",
       "      <td>1156346340802224128</td>\n",
       "      <td>[]</td>\n",
       "      <td>NaN</td>\n",
       "    </tr>\n",
       "    <tr>\n",
       "      <th>4</th>\n",
       "      <td>Tue Feb 23 00:00:17 +0000 2021</td>\n",
       "      <td>1364002100364128260</td>\n",
       "      <td>@spitta1969 Estas onfire</td>\n",
       "      <td>1364000806740111363</td>\n",
       "      <td>252168075</td>\n",
       "      <td>153663816</td>\n",
       "      <td>[]</td>\n",
       "      <td>NaN</td>\n",
       "    </tr>\n",
       "  </tbody>\n",
       "</table>\n",
       "</div>"
      ],
      "text/plain": [
       "                       created_at               id_str  \\\n",
       "0  Sat Feb 20 03:09:10 +0000 2021  1362962469749153792   \n",
       "1  Sat Feb 20 03:19:59 +0000 2021  1362965193509265417   \n",
       "2  Mon Feb 22 23:55:08 +0000 2021  1364000806740111363   \n",
       "3  Tue Feb 23 00:09:14 +0000 2021  1364004354374696963   \n",
       "4  Tue Feb 23 00:00:17 +0000 2021  1364002100364128260   \n",
       "\n",
       "                                           full_text in_reply_to_status_id  \\\n",
       "0  Seguimos esperando el comunicado de @norabar r...                   NaN   \n",
       "1  @Clon_43 @norabar Nora estaba indignada porque...   1362962469749153792   \n",
       "2  Bueno, Alberto dijo Salud o Economía. La salud...                   NaN   \n",
       "3                    @spitta1969 Tuit del mes Spitta   1364000806740111363   \n",
       "4                           @spitta1969 Estas onfire   1364000806740111363   \n",
       "\n",
       "  in_reply_to_user_id              user.id  \\\n",
       "0                 NaN           2737379453   \n",
       "1          2737379453             32718111   \n",
       "2                 NaN            252168075   \n",
       "3           252168075  1156346340802224128   \n",
       "4           252168075            153663816   \n",
       "\n",
       "                                     user_retweeters sentiment  \n",
       "0  [2258074658, 159909978, 105301854, 290671142, ...       NaN  \n",
       "1                                                 []       NaN  \n",
       "2  [1238117630696972289, 37232479, 12792246571247...       NaN  \n",
       "3                                                 []       NaN  \n",
       "4                                                 []       NaN  "
      ]
     },
     "execution_count": 3,
     "metadata": {},
     "output_type": "execute_result"
    }
   ],
   "source": [
    "dtypes = {\n",
    "    'id_str': str,\n",
    "    'full_text': str,\n",
    "    'in_reply_to_status_id': str,\n",
    "    'in_reply_to_user_id': str,\n",
    "    'user.id': str\n",
    "}\n",
    "\n",
    "df = pd.read_csv(INPUT_FILE, dtype=dtypes).dropna(subset=['user_retweeters'])\n",
    "\n",
    "df[\"user_retweeters\"] = df[\"user_retweeters\"].apply(lambda x: [str(elem) for elem in eval(x)])\n",
    "\n",
    "print('Shape:', df.shape)\n",
    "\n",
    "df.head()"
   ]
  },
  {
   "cell_type": "markdown",
   "id": "bd778ff2-c52b-4541-83bb-ab515e233fb3",
   "metadata": {
    "tags": []
   },
   "source": [
    "### Observamos algunos ejemplos"
   ]
  },
  {
   "cell_type": "code",
   "execution_count": 4,
   "id": "626fb5fa-2875-47c0-9e30-cb1a456a1c13",
   "metadata": {},
   "outputs": [
    {
     "name": "stdout",
     "output_type": "stream",
     "text": [
      "Texto: Seguimos esperando el comunicado de @norabar repudiando la situación respecto del gobierno y el tema vacunas. Seamos pacientes que con esto de la pandemia anda con mucho \"laburo\".\n",
      "Retweets: 9\n"
     ]
    }
   ],
   "source": [
    "idx = 0\n",
    "print('Texto:', df.full_text.values[idx])\n",
    "print('Retweets:', len(df.user_retweeters.values[idx]))"
   ]
  },
  {
   "cell_type": "code",
   "execution_count": 5,
   "id": "f6ca9ab4-d966-4613-8d06-b139b30255b8",
   "metadata": {},
   "outputs": [
    {
     "name": "stdout",
     "output_type": "stream",
     "text": [
      "Text: Todo lo que hay que entender sobre la decisión –o no– de poner más vacunas en más brazos (por ejemplo, usar las 1º dosis en muchos y si es necesario retrasar la 2º) está en esta excelente nota de Nora Bär. https://t.co/A0I03DyxgO\n",
      "Retweets: 48\n"
     ]
    }
   ],
   "source": [
    "idx = 376\n",
    "print('Text:', df.full_text.values[idx])\n",
    "print('Retweets:', len(df.user_retweeters.values[idx]))"
   ]
  },
  {
   "cell_type": "markdown",
   "id": "1d3911d7-cc49-4d84-95b6-4f096f5f56c3",
   "metadata": {},
   "source": [
    "### Calculamos la cantidad de hilos"
   ]
  },
  {
   "cell_type": "code",
   "execution_count": 6,
   "id": "59b6c11f-5766-45e4-a264-f3733df8694d",
   "metadata": {},
   "outputs": [
    {
     "data": {
      "text/plain": [
       "(3174, 8)"
      ]
     },
     "execution_count": 6,
     "metadata": {},
     "output_type": "execute_result"
    }
   ],
   "source": [
    "roots = df[df['in_reply_to_user_id'].isna()]\n",
    "roots.shape"
   ]
  },
  {
   "cell_type": "markdown",
   "id": "9258ad30-e325-45ce-94e8-9e0ec4317df4",
   "metadata": {},
   "source": [
    "## Actividades"
   ]
  },
  {
   "cell_type": "markdown",
   "id": "70f377d2-6e8d-437c-ab01-1a314b7af7eb",
   "metadata": {
    "jp-MarkdownHeadingCollapsed": true,
    "tags": []
   },
   "source": [
    "### Primera parte\n",
    "\n",
    "#### **1. Construcción del grafo** \n",
    "\n",
    "Construir el **grafo de retweets**, definido de la siguiente manera:\n",
    "\n",
    "- Tipo de grafo: Dirigido\n",
    "- Nodos: ID de los usuarios\n",
    "- Enlaces: (Usuario A) ---> (Usuario B) si B retweeteó algún tweet de A\n",
    "\n",
    "Con estos datos, el grafo debería tener alrededor de 40000 nodos y 90000 enlaces.\n",
    "\n",
    "Considerar la versión no dirigida del grafo y estudiar su conectividad. Si existe una única \"componente gigante\", realizar el resto de las actividades sobre ella, en lugar de sobre el grafo completo.\n",
    "\n",
    "Calcular las siguientes métricas globales del grafo:\n",
    "\n",
    "- Grado medio\n",
    "- Asortatividad\n",
    "- Transitividad\n",
    "- Coeficiente de clustering de Watts-Strogatz\n",
    "\n",
    "**Opcional:** Comparar las métricas calculadas anteriormente con las de un grafo aleatorio con la misma distribución de grado. Pueden utilizar para ello este [método](https://networkx.org/documentation/stable/reference/generated/networkx.generators.degree_seq.configuration_model.html?highlight=configuration#networkx.generators.degree_seq.configuration_model). Con esto en mente, comentar si los valores obtenidos anteriormente difieren significativamente del caso aleatorio.\n",
    "\n",
    "\n",
    "#### **2. Centralidad**\n",
    "\n",
    "Calcular 5 métricas de centralidad de nodos. Graficar la distribución de cada una de ellas ¿Existe alguna correlación entre las distintas centralidades?\n",
    "\n",
    "Hacer un ranking con los 10 nodos más centrales para cada métrica. ¿Hay coincidencia entre los rankings?. ¿Qué características tienen los usuarios más centrales y sus respectivos tweets?\n",
    "\n",
    "**Opcional:** Determinar si existe alguna correlación entre la centralidad de un nodo y su actividad en red social. Es decir, evaluar si los usuarios que más escriben son los más centrales o no.\n",
    "\n",
    "**Observación:** El cálculo de centralidad puede ser costoso, por lo que es recomendable utilizar alguna librería más eficiente que `networkx`. La más simple de usar es `igraph` (ver [documentación](https://igraph.readthedocs.io/en/stable/)). En particular, resulta práctico utilizar el método `igraph.Graph().from_networkx()`, para convertir fácilmente un grafo de `networkx` a `igraph`.\n",
    "\n",
    "#### **3. Comunidades**\n",
    "\n",
    "Utilizar el algoritmo de Louvain con el parámetro \"resolución\" igual a 1. Caracterizar las comunidades halladas (cantidad, distribución de tamaños). Utilizar la modularidad y otras dos métricas a elección para evaluar la calidad de la partición encontrada. \n",
    "\n",
    "Variar el parámetro \"resolución\" y observar cómo cambia la distribución de comunidades encontradas. ¿Existe algún valor para el cual se identifiquen dos grandes comunidades?\n",
    "\n",
    "Elegir otro algoritmo de detección de comunidades y comparar los resultados con los obtenidos anteriormente.\n",
    "\n",
    "**Opcional:** Correr el algoritmo de Louvain con distintas semillas aleatorias. Utilizar alguna métrica de comparación externa entre las particiones obtenidas para determinar en qué medida depende el algoritmo de la condición inicial."
   ]
  },
  {
   "cell_type": "markdown",
   "id": "1179f1be",
   "metadata": {},
   "source": [
    "### Resolución\n",
    "\n",
    "#### **1. Construcción del grafo** \n",
    "\n",
    "Construir el **grafo de retweets**, definido de la siguiente manera:\n",
    "\n",
    "- Tipo de grafo: Dirigido\n",
    "- Nodos: ID de los usuarios\n",
    "- Enlaces: (Usuario A) ---> (Usuario B) si B retweeteó algún tweet de A\n",
    "\n",
    "Con estos datos, el grafo debería tener alrededor de 40000 nodos y 90000 enlaces.\n",
    "\n",
    "Considerar la versión no dirigida del grafo y estudiar su conectividad. Si existe una única \"componente gigante\", realizar el resto de las actividades sobre ella, en lugar de sobre el grafo completo.\n",
    "\n",
    "Calcular las siguientes métricas globales del grafo:\n",
    "\n",
    "- Grado medio\n",
    "- Asortatividad\n",
    "- Transitividad\n",
    "- Coeficiente de clustering de Watts-Strogatz\n",
    "\n",
    "**Opcional:** Comparar las métricas calculadas anteriormente con las de un grafo aleatorio con la misma distribución de grado. Pueden utilizar para ello este [método](https://networkx.org/documentation/stable/reference/generated/networkx.generators.degree_seq.configuration_model.html?highlight=configuration#networkx.generators.degree_seq.configuration_model). Con esto en mente, comentar si los valores obtenidos anteriormente difieren significativamente del caso aleatorio."
   ]
  },
  {
   "cell_type": "code",
   "execution_count": 7,
   "id": "6771138e",
   "metadata": {
    "tags": []
   },
   "outputs": [
    {
     "data": {
      "text/html": [
       "<div>\n",
       "<style scoped>\n",
       "    .dataframe tbody tr th:only-of-type {\n",
       "        vertical-align: middle;\n",
       "    }\n",
       "\n",
       "    .dataframe tbody tr th {\n",
       "        vertical-align: top;\n",
       "    }\n",
       "\n",
       "    .dataframe thead th {\n",
       "        text-align: right;\n",
       "    }\n",
       "</style>\n",
       "<table border=\"1\" class=\"dataframe\">\n",
       "  <thead>\n",
       "    <tr style=\"text-align: right;\">\n",
       "      <th></th>\n",
       "      <th>created_at</th>\n",
       "      <th>id_str</th>\n",
       "      <th>full_text</th>\n",
       "      <th>in_reply_to_status_id</th>\n",
       "      <th>in_reply_to_user_id</th>\n",
       "      <th>user.id</th>\n",
       "      <th>user_retweeters</th>\n",
       "      <th>sentiment</th>\n",
       "      <th>user_retweet_id</th>\n",
       "    </tr>\n",
       "  </thead>\n",
       "  <tbody>\n",
       "    <tr>\n",
       "      <th>0</th>\n",
       "      <td>Sat Feb 20 03:09:10 +0000 2021</td>\n",
       "      <td>1362962469749153792</td>\n",
       "      <td>Seguimos esperando el comunicado de @norabar r...</td>\n",
       "      <td>NaN</td>\n",
       "      <td>NaN</td>\n",
       "      <td>2737379453</td>\n",
       "      <td>[2258074658, 159909978, 105301854, 290671142, ...</td>\n",
       "      <td>NaN</td>\n",
       "      <td>2258074658</td>\n",
       "    </tr>\n",
       "    <tr>\n",
       "      <th>1</th>\n",
       "      <td>Sat Feb 20 03:09:10 +0000 2021</td>\n",
       "      <td>1362962469749153792</td>\n",
       "      <td>Seguimos esperando el comunicado de @norabar r...</td>\n",
       "      <td>NaN</td>\n",
       "      <td>NaN</td>\n",
       "      <td>2737379453</td>\n",
       "      <td>[2258074658, 159909978, 105301854, 290671142, ...</td>\n",
       "      <td>NaN</td>\n",
       "      <td>159909978</td>\n",
       "    </tr>\n",
       "    <tr>\n",
       "      <th>2</th>\n",
       "      <td>Sat Feb 20 03:09:10 +0000 2021</td>\n",
       "      <td>1362962469749153792</td>\n",
       "      <td>Seguimos esperando el comunicado de @norabar r...</td>\n",
       "      <td>NaN</td>\n",
       "      <td>NaN</td>\n",
       "      <td>2737379453</td>\n",
       "      <td>[2258074658, 159909978, 105301854, 290671142, ...</td>\n",
       "      <td>NaN</td>\n",
       "      <td>105301854</td>\n",
       "    </tr>\n",
       "    <tr>\n",
       "      <th>3</th>\n",
       "      <td>Sat Feb 20 03:09:10 +0000 2021</td>\n",
       "      <td>1362962469749153792</td>\n",
       "      <td>Seguimos esperando el comunicado de @norabar r...</td>\n",
       "      <td>NaN</td>\n",
       "      <td>NaN</td>\n",
       "      <td>2737379453</td>\n",
       "      <td>[2258074658, 159909978, 105301854, 290671142, ...</td>\n",
       "      <td>NaN</td>\n",
       "      <td>290671142</td>\n",
       "    </tr>\n",
       "    <tr>\n",
       "      <th>4</th>\n",
       "      <td>Sat Feb 20 03:09:10 +0000 2021</td>\n",
       "      <td>1362962469749153792</td>\n",
       "      <td>Seguimos esperando el comunicado de @norabar r...</td>\n",
       "      <td>NaN</td>\n",
       "      <td>NaN</td>\n",
       "      <td>2737379453</td>\n",
       "      <td>[2258074658, 159909978, 105301854, 290671142, ...</td>\n",
       "      <td>NaN</td>\n",
       "      <td>208721168</td>\n",
       "    </tr>\n",
       "    <tr>\n",
       "      <th>...</th>\n",
       "      <td>...</td>\n",
       "      <td>...</td>\n",
       "      <td>...</td>\n",
       "      <td>...</td>\n",
       "      <td>...</td>\n",
       "      <td>...</td>\n",
       "      <td>...</td>\n",
       "      <td>...</td>\n",
       "      <td>...</td>\n",
       "    </tr>\n",
       "    <tr>\n",
       "      <th>93687</th>\n",
       "      <td>Tue Jan 12 13:02:18 +0000 2021</td>\n",
       "      <td>1348978612632956929</td>\n",
       "      <td>@Argentano4 @OEdurne @norabar @dianamaffia #re...</td>\n",
       "      <td>1348972409420984320</td>\n",
       "      <td>1345042868524744708</td>\n",
       "      <td>437640516</td>\n",
       "      <td>[1314707677096927234]</td>\n",
       "      <td>NaN</td>\n",
       "      <td>1314707677096927234</td>\n",
       "    </tr>\n",
       "    <tr>\n",
       "      <th>93688</th>\n",
       "      <td>Tue Jan 12 12:52:46 +0000 2021</td>\n",
       "      <td>1348976211112898560</td>\n",
       "      <td>@miseriadigna22 @Ing_Torta @peredaarias @norab...</td>\n",
       "      <td>1348974971490619395</td>\n",
       "      <td>4819951305</td>\n",
       "      <td>58065646</td>\n",
       "      <td>[353854993]</td>\n",
       "      <td>NaN</td>\n",
       "      <td>353854993</td>\n",
       "    </tr>\n",
       "    <tr>\n",
       "      <th>93689</th>\n",
       "      <td>Wed Jan 13 00:04:36 +0000 2021</td>\n",
       "      <td>1349145284614512643</td>\n",
       "      <td>@DeChouza @norabar Y así fue como Nora fue per...</td>\n",
       "      <td>1349144383799652353</td>\n",
       "      <td>1266212657272696832</td>\n",
       "      <td>79840600</td>\n",
       "      <td>[1363288094, 2258074658]</td>\n",
       "      <td>NaN</td>\n",
       "      <td>1363288094</td>\n",
       "    </tr>\n",
       "    <tr>\n",
       "      <th>93690</th>\n",
       "      <td>Wed Jan 13 00:04:36 +0000 2021</td>\n",
       "      <td>1349145284614512643</td>\n",
       "      <td>@DeChouza @norabar Y así fue como Nora fue per...</td>\n",
       "      <td>1349144383799652353</td>\n",
       "      <td>1266212657272696832</td>\n",
       "      <td>79840600</td>\n",
       "      <td>[1363288094, 2258074658]</td>\n",
       "      <td>NaN</td>\n",
       "      <td>2258074658</td>\n",
       "    </tr>\n",
       "    <tr>\n",
       "      <th>93691</th>\n",
       "      <td>Wed Jan 13 11:08:29 +0000 2021</td>\n",
       "      <td>1349312355960844289</td>\n",
       "      <td>@dardogasparre @norabar Cómo el aforismo hindú...</td>\n",
       "      <td>1349188515821735937</td>\n",
       "      <td>161838613</td>\n",
       "      <td>823874633216692225</td>\n",
       "      <td>[4105049614]</td>\n",
       "      <td>NaN</td>\n",
       "      <td>4105049614</td>\n",
       "    </tr>\n",
       "  </tbody>\n",
       "</table>\n",
       "<p>93692 rows × 9 columns</p>\n",
       "</div>"
      ],
      "text/plain": [
       "                           created_at               id_str  \\\n",
       "0      Sat Feb 20 03:09:10 +0000 2021  1362962469749153792   \n",
       "1      Sat Feb 20 03:09:10 +0000 2021  1362962469749153792   \n",
       "2      Sat Feb 20 03:09:10 +0000 2021  1362962469749153792   \n",
       "3      Sat Feb 20 03:09:10 +0000 2021  1362962469749153792   \n",
       "4      Sat Feb 20 03:09:10 +0000 2021  1362962469749153792   \n",
       "...                               ...                  ...   \n",
       "93687  Tue Jan 12 13:02:18 +0000 2021  1348978612632956929   \n",
       "93688  Tue Jan 12 12:52:46 +0000 2021  1348976211112898560   \n",
       "93689  Wed Jan 13 00:04:36 +0000 2021  1349145284614512643   \n",
       "93690  Wed Jan 13 00:04:36 +0000 2021  1349145284614512643   \n",
       "93691  Wed Jan 13 11:08:29 +0000 2021  1349312355960844289   \n",
       "\n",
       "                                               full_text  \\\n",
       "0      Seguimos esperando el comunicado de @norabar r...   \n",
       "1      Seguimos esperando el comunicado de @norabar r...   \n",
       "2      Seguimos esperando el comunicado de @norabar r...   \n",
       "3      Seguimos esperando el comunicado de @norabar r...   \n",
       "4      Seguimos esperando el comunicado de @norabar r...   \n",
       "...                                                  ...   \n",
       "93687  @Argentano4 @OEdurne @norabar @dianamaffia #re...   \n",
       "93688  @miseriadigna22 @Ing_Torta @peredaarias @norab...   \n",
       "93689  @DeChouza @norabar Y así fue como Nora fue per...   \n",
       "93690  @DeChouza @norabar Y así fue como Nora fue per...   \n",
       "93691  @dardogasparre @norabar Cómo el aforismo hindú...   \n",
       "\n",
       "      in_reply_to_status_id  in_reply_to_user_id             user.id  \\\n",
       "0                       NaN                  NaN          2737379453   \n",
       "1                       NaN                  NaN          2737379453   \n",
       "2                       NaN                  NaN          2737379453   \n",
       "3                       NaN                  NaN          2737379453   \n",
       "4                       NaN                  NaN          2737379453   \n",
       "...                     ...                  ...                 ...   \n",
       "93687   1348972409420984320  1345042868524744708           437640516   \n",
       "93688   1348974971490619395           4819951305            58065646   \n",
       "93689   1349144383799652353  1266212657272696832            79840600   \n",
       "93690   1349144383799652353  1266212657272696832            79840600   \n",
       "93691   1349188515821735937            161838613  823874633216692225   \n",
       "\n",
       "                                         user_retweeters sentiment  \\\n",
       "0      [2258074658, 159909978, 105301854, 290671142, ...       NaN   \n",
       "1      [2258074658, 159909978, 105301854, 290671142, ...       NaN   \n",
       "2      [2258074658, 159909978, 105301854, 290671142, ...       NaN   \n",
       "3      [2258074658, 159909978, 105301854, 290671142, ...       NaN   \n",
       "4      [2258074658, 159909978, 105301854, 290671142, ...       NaN   \n",
       "...                                                  ...       ...   \n",
       "93687                              [1314707677096927234]       NaN   \n",
       "93688                                        [353854993]       NaN   \n",
       "93689                           [1363288094, 2258074658]       NaN   \n",
       "93690                           [1363288094, 2258074658]       NaN   \n",
       "93691                                       [4105049614]       NaN   \n",
       "\n",
       "           user_retweet_id  \n",
       "0               2258074658  \n",
       "1                159909978  \n",
       "2                105301854  \n",
       "3                290671142  \n",
       "4                208721168  \n",
       "...                    ...  \n",
       "93687  1314707677096927234  \n",
       "93688            353854993  \n",
       "93689           1363288094  \n",
       "93690           2258074658  \n",
       "93691           4105049614  \n",
       "\n",
       "[93692 rows x 9 columns]"
      ]
     },
     "execution_count": 7,
     "metadata": {},
     "output_type": "execute_result"
    }
   ],
   "source": [
    "# Se duplican tantas filas para que la columna user_retweeters tenga un id por fila.\n",
    "new_df = df.copy()\n",
    "new_df = new_df.assign(user_retweet_id=df[\"user_retweeters\"]).explode(\"user_retweet_id\").reset_index(drop=True)\n",
    "new_df = new_df.drop_duplicates([\"user.id\", \"user_retweet_id\"], keep=\"last\").reset_index(drop=True)\n",
    "new_df = new_df[new_df[\"user_retweet_id\"].notna()].reset_index(drop=True)\n",
    "\n",
    "new_df"
   ]
  },
  {
   "cell_type": "code",
   "execution_count": 8,
   "id": "d5333b57-a167-46a6-af83-95d1960921d5",
   "metadata": {},
   "outputs": [],
   "source": [
    "# Se crea grafo dirigido\n",
    "directed_graph = nx.from_pandas_edgelist(new_df, \"user.id\", \"user_retweet_id\", create_using=nx.DiGraph())"
   ]
  },
  {
   "cell_type": "code",
   "execution_count": 9,
   "id": "dbc5265a",
   "metadata": {},
   "outputs": [
    {
     "name": "stdout",
     "output_type": "stream",
     "text": [
      "DiGraph with 39800 nodes and 93692 edges\n"
     ]
    }
   ],
   "source": [
    "# Se corrobora la cantidad de nodos y enlaces\n",
    "print(directed_graph)"
   ]
  },
  {
   "cell_type": "code",
   "execution_count": 11,
   "id": "07398ee8",
   "metadata": {},
   "outputs": [
    {
     "name": "stdout",
     "output_type": "stream",
     "text": [
      "Graph with 39800 nodes and 93404 edges\n"
     ]
    }
   ],
   "source": [
    "# Se corrobora la cantidad de nodos y enlaces\n",
    "print(undirected_graph)"
   ]
  },
  {
   "cell_type": "code",
   "execution_count": null,
   "id": "145898b8",
   "metadata": {},
   "outputs": [],
   "source": []
  }
 ],
 "metadata": {
  "kernelspec": {
   "display_name": "Python 3 (ipykernel)",
   "language": "python",
   "name": "python3"
  },
  "language_info": {
   "codemirror_mode": {
    "name": "ipython",
    "version": 3
   },
   "file_extension": ".py",
   "mimetype": "text/x-python",
   "name": "python",
   "nbconvert_exporter": "python",
   "pygments_lexer": "ipython3",
   "version": "3.10.9"
  },
  "vscode": {
   "interpreter": {
    "hash": "8d7acc4dc437111e8490236920a60e1a4ee1305942f3604eb0e25bca4448a2fc"
   }
  }
 },
 "nbformat": 4,
 "nbformat_minor": 5
}
